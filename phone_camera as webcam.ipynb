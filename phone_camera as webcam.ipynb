{
 "cells": [
  {
   "cell_type": "code",
   "execution_count": 2,
   "id": "e87d0588",
   "metadata": {},
   "outputs": [],
   "source": [
    "import requests\n",
    "import cv2\n",
    "import numpy as np\n",
    "import imutils"
   ]
  },
  {
   "cell_type": "code",
   "execution_count": 2,
   "id": "e216dece",
   "metadata": {},
   "outputs": [],
   "source": [
    "# pip install opencv-python"
   ]
  },
  {
   "cell_type": "code",
   "execution_count": 3,
   "id": "9fd28cdd",
   "metadata": {},
   "outputs": [],
   "source": [
    "# conda install pip"
   ]
  },
  {
   "cell_type": "code",
   "execution_count": 4,
   "id": "5b367590",
   "metadata": {},
   "outputs": [],
   "source": [
    "# pip install imutils"
   ]
  },
  {
   "cell_type": "code",
   "execution_count": null,
   "id": "0f189909",
   "metadata": {},
   "outputs": [],
   "source": [
    "# install ip webcam in phone and use its url\n",
    "url =\"http://26.100.221.14:8080/shot.jpg\"\n",
    "while True:\n",
    "    img_resp = requests.get(url)\n",
    "    img_arr = np.array(bytearray(img_resp.content),dtype=np.uint8)\n",
    "    img = cv2.imdecode(img_arr,-1)\n",
    "    img = imutils.resize(img,width=1000,height=1800)\n",
    "    cv2.imshow(\"Android_cam\",img)\n",
    "    \n",
    "    if cv2.waitKey(1) == 27:\n",
    "        break\n",
    "cv2.destroyAllWindows()"
   ]
  }
 ],
 "metadata": {
  "kernelspec": {
   "display_name": "Python 3 (ipykernel)",
   "language": "python",
   "name": "python3"
  },
  "language_info": {
   "codemirror_mode": {
    "name": "ipython",
    "version": 3
   },
   "file_extension": ".py",
   "mimetype": "text/x-python",
   "name": "python",
   "nbconvert_exporter": "python",
   "pygments_lexer": "ipython3",
   "version": "3.9.7"
  }
 },
 "nbformat": 4,
 "nbformat_minor": 5
}
